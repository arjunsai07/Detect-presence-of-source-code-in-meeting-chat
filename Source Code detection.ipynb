{
 "cells": [
  {
   "cell_type": "code",
   "execution_count": 3,
   "id": "c042f2ba",
   "metadata": {
    "collapsed": true
   },
   "outputs": [
    {
     "name": "stdout",
     "output_type": "stream",
     "text": [
      "Collecting transformersNote: you may need to restart the kernel to use updated packages.\n",
      "\n",
      "  Downloading transformers-4.40.0-py3-none-any.whl.metadata (137 kB)\n",
      "     ---------------------------------------- 0.0/137.6 kB ? eta -:--:--\n",
      "     -- ------------------------------------- 10.2/137.6 kB ? eta -:--:--\n",
      "     ---------------- -------------------- 61.4/137.6 kB 812.7 kB/s eta 0:00:01\n",
      "     -------------------------------------- 137.6/137.6 kB 1.2 MB/s eta 0:00:00\n",
      "Requirement already satisfied: filelock in c:\\users\\hp\\anaconda3\\lib\\site-packages (from transformers) (3.13.1)\n",
      "Collecting huggingface-hub<1.0,>=0.19.3 (from transformers)\n",
      "  Downloading huggingface_hub-0.22.2-py3-none-any.whl.metadata (12 kB)\n",
      "Requirement already satisfied: numpy>=1.17 in c:\\users\\hp\\anaconda3\\lib\\site-packages (from transformers) (1.26.4)\n",
      "Requirement already satisfied: packaging>=20.0 in c:\\users\\hp\\anaconda3\\lib\\site-packages (from transformers) (23.1)\n",
      "Requirement already satisfied: pyyaml>=5.1 in c:\\users\\hp\\anaconda3\\lib\\site-packages (from transformers) (6.0.1)\n",
      "Requirement already satisfied: regex!=2019.12.17 in c:\\users\\hp\\anaconda3\\lib\\site-packages (from transformers) (2023.10.3)\n",
      "Requirement already satisfied: requests in c:\\users\\hp\\anaconda3\\lib\\site-packages (from transformers) (2.31.0)\n",
      "Collecting tokenizers<0.20,>=0.19 (from transformers)\n",
      "  Downloading tokenizers-0.19.1-cp39-none-win_amd64.whl.metadata (6.9 kB)\n",
      "Collecting safetensors>=0.4.1 (from transformers)\n",
      "  Downloading safetensors-0.4.3-cp39-none-win_amd64.whl.metadata (3.9 kB)\n",
      "Requirement already satisfied: tqdm>=4.27 in c:\\users\\hp\\anaconda3\\lib\\site-packages (from transformers) (4.65.0)\n",
      "Requirement already satisfied: fsspec>=2023.5.0 in c:\\users\\hp\\anaconda3\\lib\\site-packages (from huggingface-hub<1.0,>=0.19.3->transformers) (2023.10.0)\n",
      "Requirement already satisfied: typing-extensions>=3.7.4.3 in c:\\users\\hp\\anaconda3\\lib\\site-packages (from huggingface-hub<1.0,>=0.19.3->transformers) (4.9.0)\n",
      "Requirement already satisfied: colorama in c:\\users\\hp\\anaconda3\\lib\\site-packages (from tqdm>=4.27->transformers) (0.4.6)\n",
      "Requirement already satisfied: charset-normalizer<4,>=2 in c:\\users\\hp\\anaconda3\\lib\\site-packages (from requests->transformers) (2.0.4)\n",
      "Requirement already satisfied: idna<4,>=2.5 in c:\\users\\hp\\anaconda3\\lib\\site-packages (from requests->transformers) (3.4)\n",
      "Requirement already satisfied: urllib3<3,>=1.21.1 in c:\\users\\hp\\anaconda3\\lib\\site-packages (from requests->transformers) (1.26.18)\n",
      "Requirement already satisfied: certifi>=2017.4.17 in c:\\users\\hp\\anaconda3\\lib\\site-packages (from requests->transformers) (2024.2.2)\n",
      "Downloading transformers-4.40.0-py3-none-any.whl (9.0 MB)\n",
      "   ---------------------------------------- 0.0/9.0 MB ? eta -:--:--\n",
      "   - -------------------------------------- 0.4/9.0 MB 7.6 MB/s eta 0:00:02\n",
      "   --- ------------------------------------ 0.8/9.0 MB 8.5 MB/s eta 0:00:01\n",
      "   ----- ---------------------------------- 1.3/9.0 MB 8.9 MB/s eta 0:00:01\n",
      "   ------- -------------------------------- 1.8/9.0 MB 9.3 MB/s eta 0:00:01\n",
      "   ---------- ----------------------------- 2.3/9.0 MB 9.9 MB/s eta 0:00:01\n",
      "   ----------- ---------------------------- 2.5/9.0 MB 10.1 MB/s eta 0:00:01\n",
      "   ------------ --------------------------- 2.9/9.0 MB 8.7 MB/s eta 0:00:01\n",
      "   ------------- -------------------------- 3.1/9.0 MB 8.2 MB/s eta 0:00:01\n",
      "   --------------- ------------------------ 3.6/9.0 MB 8.5 MB/s eta 0:00:01\n",
      "   ------------------ --------------------- 4.1/9.0 MB 9.1 MB/s eta 0:00:01\n",
      "   -------------------- ------------------- 4.7/9.0 MB 9.1 MB/s eta 0:00:01\n",
      "   ----------------------- ---------------- 5.3/9.0 MB 9.3 MB/s eta 0:00:01\n",
      "   ------------------------- -------------- 5.7/9.0 MB 9.6 MB/s eta 0:00:01\n",
      "   --------------------------- ------------ 6.2/9.0 MB 9.6 MB/s eta 0:00:01\n",
      "   ---------------------------- ----------- 6.5/9.0 MB 9.4 MB/s eta 0:00:01\n",
      "   ------------------------------- -------- 7.1/9.0 MB 9.4 MB/s eta 0:00:01\n",
      "   --------------------------------- ------ 7.5/9.0 MB 9.6 MB/s eta 0:00:01\n",
      "   ---------------------------------- ----- 7.9/9.0 MB 9.3 MB/s eta 0:00:01\n",
      "   ------------------------------------- -- 8.3/9.0 MB 9.5 MB/s eta 0:00:01\n",
      "   ---------------------------------------  8.9/9.0 MB 9.6 MB/s eta 0:00:01\n",
      "   ---------------------------------------  9.0/9.0 MB 9.4 MB/s eta 0:00:01\n",
      "   ---------------------------------------- 9.0/9.0 MB 9.1 MB/s eta 0:00:00\n",
      "Downloading huggingface_hub-0.22.2-py3-none-any.whl (388 kB)\n",
      "   ---------------------------------------- 0.0/388.9 kB ? eta -:--:--\n",
      "   --------------------------------------- 388.9/388.9 kB 12.2 MB/s eta 0:00:00\n",
      "Downloading safetensors-0.4.3-cp39-none-win_amd64.whl (287 kB)\n",
      "   ---------------------------------------- 0.0/287.9 kB ? eta -:--:--\n",
      "   ---------------------------------------- 287.9/287.9 kB 9.0 MB/s eta 0:00:00\n",
      "Downloading tokenizers-0.19.1-cp39-none-win_amd64.whl (2.2 MB)\n",
      "   ---------------------------------------- 0.0/2.2 MB ? eta -:--:--\n",
      "   ------ --------------------------------- 0.4/2.2 MB 11.2 MB/s eta 0:00:01\n",
      "   ----------------- ---------------------- 1.0/2.2 MB 12.1 MB/s eta 0:00:01\n",
      "   ------------------------ --------------- 1.4/2.2 MB 10.9 MB/s eta 0:00:01\n",
      "   ------------------------------ --------- 1.7/2.2 MB 9.9 MB/s eta 0:00:01\n",
      "   ---------------------------------------  2.2/2.2 MB 10.0 MB/s eta 0:00:01\n",
      "   ---------------------------------------- 2.2/2.2 MB 8.8 MB/s eta 0:00:00\n",
      "Installing collected packages: safetensors, huggingface-hub, tokenizers, transformers\n",
      "Successfully installed huggingface-hub-0.22.2 safetensors-0.4.3 tokenizers-0.19.1 transformers-4.40.0\n"
     ]
    }
   ],
   "source": [
    "pip install transformers"
   ]
  },
  {
   "cell_type": "code",
   "execution_count": 11,
   "id": "6e4f3083",
   "metadata": {
    "collapsed": true
   },
   "outputs": [
    {
     "name": "stdout",
     "output_type": "stream",
     "text": [
      "Requirement already satisfied: transformers[torch] in c:\\users\\hp\\anaconda3\\lib\\site-packages (4.40.0)\n",
      "Requirement already satisfied: filelock in c:\\users\\hp\\anaconda3\\lib\\site-packages (from transformers[torch]) (3.13.1)\n",
      "Requirement already satisfied: huggingface-hub<1.0,>=0.19.3 in c:\\users\\hp\\anaconda3\\lib\\site-packages (from transformers[torch]) (0.22.2)\n",
      "Requirement already satisfied: numpy>=1.17 in c:\\users\\hp\\anaconda3\\lib\\site-packages (from transformers[torch]) (1.26.4)\n",
      "Requirement already satisfied: packaging>=20.0 in c:\\users\\hp\\anaconda3\\lib\\site-packages (from transformers[torch]) (23.1)\n",
      "Requirement already satisfied: pyyaml>=5.1 in c:\\users\\hp\\anaconda3\\lib\\site-packages (from transformers[torch]) (6.0.1)\n",
      "Requirement already satisfied: regex!=2019.12.17 in c:\\users\\hp\\anaconda3\\lib\\site-packages (from transformers[torch]) (2023.10.3)\n",
      "Requirement already satisfied: requests in c:\\users\\hp\\anaconda3\\lib\\site-packages (from transformers[torch]) (2.31.0)\n",
      "Requirement already satisfied: tokenizers<0.20,>=0.19 in c:\\users\\hp\\anaconda3\\lib\\site-packages (from transformers[torch]) (0.19.1)\n",
      "Requirement already satisfied: safetensors>=0.4.1 in c:\\users\\hp\\anaconda3\\lib\\site-packages (from transformers[torch]) (0.4.3)\n",
      "Requirement already satisfied: tqdm>=4.27 in c:\\users\\hp\\anaconda3\\lib\\site-packages (from transformers[torch]) (4.65.0)\n",
      "Requirement already satisfied: torch in c:\\users\\hp\\anaconda3\\lib\\site-packages (from transformers[torch]) (2.2.1+cu118)\n",
      "Collecting accelerate>=0.21.0 (from transformers[torch])\n",
      "  Downloading accelerate-0.29.3-py3-none-any.whl.metadata (18 kB)\n",
      "Requirement already satisfied: psutil in c:\\users\\hp\\anaconda3\\lib\\site-packages (from accelerate>=0.21.0->transformers[torch]) (5.9.0)\n",
      "Requirement already satisfied: fsspec>=2023.5.0 in c:\\users\\hp\\anaconda3\\lib\\site-packages (from huggingface-hub<1.0,>=0.19.3->transformers[torch]) (2023.10.0)\n",
      "Requirement already satisfied: typing-extensions>=3.7.4.3 in c:\\users\\hp\\anaconda3\\lib\\site-packages (from huggingface-hub<1.0,>=0.19.3->transformers[torch]) (4.9.0)\n",
      "Requirement already satisfied: sympy in c:\\users\\hp\\anaconda3\\lib\\site-packages (from torch->transformers[torch]) (1.12)\n",
      "Requirement already satisfied: networkx in c:\\users\\hp\\anaconda3\\lib\\site-packages (from torch->transformers[torch]) (3.1)\n",
      "Requirement already satisfied: jinja2 in c:\\users\\hp\\anaconda3\\lib\\site-packages (from torch->transformers[torch]) (2.11.3)\n",
      "Requirement already satisfied: colorama in c:\\users\\hp\\anaconda3\\lib\\site-packages (from tqdm>=4.27->transformers[torch]) (0.4.6)\n",
      "Requirement already satisfied: charset-normalizer<4,>=2 in c:\\users\\hp\\anaconda3\\lib\\site-packages (from requests->transformers[torch]) (2.0.4)\n",
      "Requirement already satisfied: idna<4,>=2.5 in c:\\users\\hp\\anaconda3\\lib\\site-packages (from requests->transformers[torch]) (3.4)\n",
      "Requirement already satisfied: urllib3<3,>=1.21.1 in c:\\users\\hp\\anaconda3\\lib\\site-packages (from requests->transformers[torch]) (1.26.18)\n",
      "Requirement already satisfied: certifi>=2017.4.17 in c:\\users\\hp\\anaconda3\\lib\\site-packages (from requests->transformers[torch]) (2024.2.2)\n",
      "Requirement already satisfied: MarkupSafe>=0.23 in c:\\users\\hp\\anaconda3\\lib\\site-packages (from jinja2->torch->transformers[torch]) (2.0.1)\n",
      "Requirement already satisfied: mpmath>=0.19 in c:\\users\\hp\\anaconda3\\lib\\site-packages (from sympy->torch->transformers[torch]) (1.3.0)\n",
      "Downloading accelerate-0.29.3-py3-none-any.whl (297 kB)\n",
      "   ---------------------------------------- 0.0/297.6 kB ? eta -:--:--\n",
      "   ---- ---------------------------------- 30.7/297.6 kB 435.7 kB/s eta 0:00:01\n",
      "   ----------------------------------- ---- 266.2/297.6 kB 2.7 MB/s eta 0:00:01\n",
      "   ---------------------------------------- 297.6/297.6 kB 3.1 MB/s eta 0:00:00\n",
      "Installing collected packages: accelerate\n",
      "Successfully installed accelerate-0.29.3\n",
      "Note: you may need to restart the kernel to use updated packages.\n"
     ]
    }
   ],
   "source": [
    "pip install transformers[torch] -U"
   ]
  },
  {
   "cell_type": "code",
   "execution_count": 22,
   "id": "5902c97a",
   "metadata": {
    "collapsed": true
   },
   "outputs": [
    {
     "name": "stdout",
     "output_type": "stream",
     "text": [
      "Requirement already satisfied: accelerate in c:\\users\\hp\\anaconda3\\lib\\site-packages (0.29.3)\n",
      "Requirement already satisfied: numpy>=1.17 in c:\\users\\hp\\anaconda3\\lib\\site-packages (from accelerate) (1.26.4)\n",
      "Requirement already satisfied: packaging>=20.0 in c:\\users\\hp\\anaconda3\\lib\\site-packages (from accelerate) (23.1)\n",
      "Requirement already satisfied: psutil in c:\\users\\hp\\anaconda3\\lib\\site-packages (from accelerate) (5.9.0)\n",
      "Requirement already satisfied: pyyaml in c:\\users\\hp\\anaconda3\\lib\\site-packages (from accelerate) (6.0.1)\n",
      "Requirement already satisfied: torch>=1.10.0 in c:\\users\\hp\\anaconda3\\lib\\site-packages (from accelerate) (2.2.1+cu118)\n",
      "Requirement already satisfied: huggingface-hub in c:\\users\\hp\\anaconda3\\lib\\site-packages (from accelerate) (0.22.2)\n",
      "Requirement already satisfied: safetensors>=0.3.1 in c:\\users\\hp\\anaconda3\\lib\\site-packages (from accelerate) (0.4.3)\n",
      "Requirement already satisfied: filelock in c:\\users\\hp\\anaconda3\\lib\\site-packages (from torch>=1.10.0->accelerate) (3.13.1)\n",
      "Requirement already satisfied: typing-extensions>=4.8.0 in c:\\users\\hp\\anaconda3\\lib\\site-packages (from torch>=1.10.0->accelerate) (4.9.0)\n",
      "Requirement already satisfied: sympy in c:\\users\\hp\\anaconda3\\lib\\site-packages (from torch>=1.10.0->accelerate) (1.12)\n",
      "Requirement already satisfied: networkx in c:\\users\\hp\\anaconda3\\lib\\site-packages (from torch>=1.10.0->accelerate) (3.1)\n",
      "Requirement already satisfied: jinja2 in c:\\users\\hp\\anaconda3\\lib\\site-packages (from torch>=1.10.0->accelerate) (2.11.3)\n",
      "Requirement already satisfied: fsspec in c:\\users\\hp\\anaconda3\\lib\\site-packages (from torch>=1.10.0->accelerate) (2023.10.0)\n",
      "Requirement already satisfied: requests in c:\\users\\hp\\anaconda3\\lib\\site-packages (from huggingface-hub->accelerate) (2.31.0)\n",
      "Requirement already satisfied: tqdm>=4.42.1 in c:\\users\\hp\\anaconda3\\lib\\site-packages (from huggingface-hub->accelerate) (4.65.0)\n",
      "Requirement already satisfied: colorama in c:\\users\\hp\\anaconda3\\lib\\site-packages (from tqdm>=4.42.1->huggingface-hub->accelerate) (0.4.6)\n",
      "Requirement already satisfied: MarkupSafe>=0.23 in c:\\users\\hp\\anaconda3\\lib\\site-packages (from jinja2->torch>=1.10.0->accelerate) (2.0.1)\n",
      "Requirement already satisfied: charset-normalizer<4,>=2 in c:\\users\\hp\\anaconda3\\lib\\site-packages (from requests->huggingface-hub->accelerate) (2.0.4)\n",
      "Requirement already satisfied: idna<4,>=2.5 in c:\\users\\hp\\anaconda3\\lib\\site-packages (from requests->huggingface-hub->accelerate) (3.4)\n",
      "Requirement already satisfied: urllib3<3,>=1.21.1 in c:\\users\\hp\\anaconda3\\lib\\site-packages (from requests->huggingface-hub->accelerate) (1.26.18)\n",
      "Requirement already satisfied: certifi>=2017.4.17 in c:\\users\\hp\\anaconda3\\lib\\site-packages (from requests->huggingface-hub->accelerate) (2024.2.2)\n",
      "Requirement already satisfied: mpmath>=0.19 in c:\\users\\hp\\anaconda3\\lib\\site-packages (from sympy->torch>=1.10.0->accelerate) (1.3.0)\n",
      "Note: you may need to restart the kernel to use updated packages.\n"
     ]
    }
   ],
   "source": [
    "pip install accelerate -U"
   ]
  },
  {
   "cell_type": "code",
   "execution_count": 138,
   "id": "4e38e783",
   "metadata": {
    "collapsed": true
   },
   "outputs": [
    {
     "name": "stdout",
     "output_type": "stream",
     "text": [
      "Collecting ray[tune]Note: you may need to restart the kernel to use updated packages.\n",
      "\n",
      "  Downloading ray-2.10.0-cp39-cp39-win_amd64.whl.metadata (13 kB)\n",
      "Requirement already satisfied: click>=7.0 in c:\\users\\hp\\anaconda3\\lib\\site-packages (from ray[tune]) (8.1.7)\n",
      "Requirement already satisfied: filelock in c:\\users\\hp\\anaconda3\\lib\\site-packages (from ray[tune]) (3.13.1)\n",
      "Requirement already satisfied: jsonschema in c:\\users\\hp\\anaconda3\\lib\\site-packages (from ray[tune]) (4.19.2)\n",
      "Requirement already satisfied: msgpack<2.0.0,>=1.0.0 in c:\\users\\hp\\anaconda3\\lib\\site-packages (from ray[tune]) (1.0.3)\n",
      "Requirement already satisfied: packaging in c:\\users\\hp\\anaconda3\\lib\\site-packages (from ray[tune]) (23.1)\n",
      "Requirement already satisfied: protobuf!=3.19.5,>=3.15.3 in c:\\users\\hp\\anaconda3\\lib\\site-packages (from ray[tune]) (3.20.3)\n",
      "Requirement already satisfied: pyyaml in c:\\users\\hp\\anaconda3\\lib\\site-packages (from ray[tune]) (6.0.1)\n",
      "Requirement already satisfied: aiosignal in c:\\users\\hp\\anaconda3\\lib\\site-packages (from ray[tune]) (1.2.0)\n",
      "Requirement already satisfied: frozenlist in c:\\users\\hp\\anaconda3\\lib\\site-packages (from ray[tune]) (1.4.0)\n",
      "Requirement already satisfied: requests in c:\\users\\hp\\anaconda3\\lib\\site-packages (from ray[tune]) (2.31.0)\n",
      "Requirement already satisfied: pandas in c:\\users\\hp\\anaconda3\\lib\\site-packages (from ray[tune]) (1.4.4)\n",
      "Collecting tensorboardX>=1.9 (from ray[tune])\n",
      "  Downloading tensorboardX-2.6.2.2-py2.py3-none-any.whl.metadata (5.8 kB)\n",
      "Requirement already satisfied: pyarrow>=6.0.1 in c:\\users\\hp\\anaconda3\\lib\\site-packages (from ray[tune]) (14.0.2)\n",
      "Requirement already satisfied: fsspec in c:\\users\\hp\\anaconda3\\lib\\site-packages (from ray[tune]) (2023.10.0)\n",
      "Requirement already satisfied: colorama in c:\\users\\hp\\anaconda3\\lib\\site-packages (from click>=7.0->ray[tune]) (0.4.6)\n",
      "Requirement already satisfied: numpy>=1.16.6 in c:\\users\\hp\\anaconda3\\lib\\site-packages (from pyarrow>=6.0.1->ray[tune]) (1.26.4)\n",
      "Requirement already satisfied: attrs>=22.2.0 in c:\\users\\hp\\anaconda3\\lib\\site-packages (from jsonschema->ray[tune]) (23.1.0)\n",
      "Requirement already satisfied: jsonschema-specifications>=2023.03.6 in c:\\users\\hp\\anaconda3\\lib\\site-packages (from jsonschema->ray[tune]) (2023.7.1)\n",
      "Requirement already satisfied: referencing>=0.28.4 in c:\\users\\hp\\anaconda3\\lib\\site-packages (from jsonschema->ray[tune]) (0.30.2)\n",
      "Requirement already satisfied: rpds-py>=0.7.1 in c:\\users\\hp\\anaconda3\\lib\\site-packages (from jsonschema->ray[tune]) (0.10.6)\n",
      "Requirement already satisfied: python-dateutil>=2.8.1 in c:\\users\\hp\\anaconda3\\lib\\site-packages (from pandas->ray[tune]) (2.8.2)\n",
      "Requirement already satisfied: pytz>=2020.1 in c:\\users\\hp\\anaconda3\\lib\\site-packages (from pandas->ray[tune]) (2023.3.post1)\n",
      "Requirement already satisfied: charset-normalizer<4,>=2 in c:\\users\\hp\\anaconda3\\lib\\site-packages (from requests->ray[tune]) (2.0.4)\n",
      "Requirement already satisfied: idna<4,>=2.5 in c:\\users\\hp\\anaconda3\\lib\\site-packages (from requests->ray[tune]) (3.4)\n",
      "Requirement already satisfied: urllib3<3,>=1.21.1 in c:\\users\\hp\\anaconda3\\lib\\site-packages (from requests->ray[tune]) (1.26.18)\n",
      "Requirement already satisfied: certifi>=2017.4.17 in c:\\users\\hp\\anaconda3\\lib\\site-packages (from requests->ray[tune]) (2024.2.2)\n",
      "Requirement already satisfied: six>=1.5 in c:\\users\\hp\\anaconda3\\lib\\site-packages (from python-dateutil>=2.8.1->pandas->ray[tune]) (1.16.0)\n",
      "Downloading tensorboardX-2.6.2.2-py2.py3-none-any.whl (101 kB)\n",
      "   ---------------------------------------- 0.0/101.7 kB ? eta -:--:--\n",
      "   --------------- ----------------------- 41.0/101.7 kB 991.0 kB/s eta 0:00:01\n",
      "   ---------------------------------------- 101.7/101.7 kB 1.5 MB/s eta 0:00:00\n",
      "Downloading ray-2.10.0-cp39-cp39-win_amd64.whl (25.4 MB)\n",
      "   ---------------------------------------- 0.0/25.4 MB ? eta -:--:--\n",
      "    --------------------------------------- 0.4/25.4 MB 11.2 MB/s eta 0:00:03\n",
      "   - -------------------------------------- 0.9/25.4 MB 10.9 MB/s eta 0:00:03\n",
      "   - -------------------------------------- 1.2/25.4 MB 10.8 MB/s eta 0:00:03\n",
      "   -- ------------------------------------- 1.8/25.4 MB 10.6 MB/s eta 0:00:03\n",
      "   --- ------------------------------------ 2.3/25.4 MB 10.5 MB/s eta 0:00:03\n",
      "   ---- ----------------------------------- 2.9/25.4 MB 10.7 MB/s eta 0:00:03\n",
      "   ----- ---------------------------------- 3.4/25.4 MB 11.5 MB/s eta 0:00:02\n",
      "   ------ --------------------------------- 3.8/25.4 MB 10.6 MB/s eta 0:00:03\n",
      "   ------ --------------------------------- 4.4/25.4 MB 10.8 MB/s eta 0:00:02\n",
      "   ------- -------------------------------- 4.8/25.4 MB 10.9 MB/s eta 0:00:02\n",
      "   -------- ------------------------------- 5.1/25.4 MB 10.2 MB/s eta 0:00:02\n",
      "   -------- ------------------------------- 5.6/25.4 MB 10.2 MB/s eta 0:00:02\n",
      "   --------- ------------------------------ 5.9/25.4 MB 9.9 MB/s eta 0:00:02\n",
      "   --------- ------------------------------ 6.3/25.4 MB 9.8 MB/s eta 0:00:02\n",
      "   ---------- ----------------------------- 6.8/25.4 MB 9.8 MB/s eta 0:00:02\n",
      "   ----------- ---------------------------- 7.4/25.4 MB 10.0 MB/s eta 0:00:02\n",
      "   ------------ --------------------------- 7.7/25.4 MB 9.9 MB/s eta 0:00:02\n",
      "   ------------ --------------------------- 8.1/25.4 MB 10.0 MB/s eta 0:00:02\n",
      "   ------------- -------------------------- 8.5/25.4 MB 9.7 MB/s eta 0:00:02\n",
      "   -------------- ------------------------- 9.0/25.4 MB 9.7 MB/s eta 0:00:02\n",
      "   -------------- ------------------------- 9.5/25.4 MB 9.8 MB/s eta 0:00:02\n",
      "   --------------- ------------------------ 9.9/25.4 MB 9.9 MB/s eta 0:00:02\n",
      "   ---------------- ----------------------- 10.3/25.4 MB 9.8 MB/s eta 0:00:02\n",
      "   ---------------- ----------------------- 10.6/25.4 MB 9.6 MB/s eta 0:00:02\n",
      "   ----------------- ---------------------- 11.3/25.4 MB 9.8 MB/s eta 0:00:02\n",
      "   ------------------ --------------------- 11.6/25.4 MB 9.8 MB/s eta 0:00:02\n",
      "   ------------------- -------------------- 12.1/25.4 MB 9.6 MB/s eta 0:00:02\n",
      "   -------------------- ------------------- 12.8/25.4 MB 9.6 MB/s eta 0:00:02\n",
      "   --------------------- ------------------ 13.4/25.4 MB 9.8 MB/s eta 0:00:02\n",
      "   --------------------- ------------------ 13.7/25.4 MB 9.5 MB/s eta 0:00:02\n",
      "   ---------------------- ----------------- 14.3/25.4 MB 9.6 MB/s eta 0:00:02\n",
      "   ----------------------- ---------------- 14.9/25.4 MB 9.6 MB/s eta 0:00:02\n",
      "   ----------------------- ---------------- 15.0/25.4 MB 9.4 MB/s eta 0:00:02\n",
      "   ------------------------ --------------- 15.4/25.4 MB 9.5 MB/s eta 0:00:02\n",
      "   ------------------------ --------------- 15.6/25.4 MB 9.6 MB/s eta 0:00:02\n",
      "   ------------------------- -------------- 16.0/25.4 MB 9.4 MB/s eta 0:00:02\n",
      "   ------------------------- -------------- 16.5/25.4 MB 9.4 MB/s eta 0:00:01\n",
      "   -------------------------- ------------- 17.0/25.4 MB 9.5 MB/s eta 0:00:01\n",
      "   --------------------------- ------------ 17.3/25.4 MB 9.2 MB/s eta 0:00:01\n",
      "   ---------------------------- ----------- 17.8/25.4 MB 9.5 MB/s eta 0:00:01\n",
      "   ---------------------------- ----------- 18.2/25.4 MB 9.4 MB/s eta 0:00:01\n",
      "   ----------------------------- ---------- 18.8/25.4 MB 9.5 MB/s eta 0:00:01\n",
      "   ------------------------------ --------- 19.5/25.4 MB 9.8 MB/s eta 0:00:01\n",
      "   ------------------------------- -------- 19.9/25.4 MB 9.6 MB/s eta 0:00:01\n",
      "   -------------------------------- ------- 20.4/25.4 MB 9.9 MB/s eta 0:00:01\n",
      "   -------------------------------- ------- 20.9/25.4 MB 9.9 MB/s eta 0:00:01\n",
      "   --------------------------------- ------ 21.3/25.4 MB 9.9 MB/s eta 0:00:01\n",
      "   ---------------------------------- ----- 21.8/25.4 MB 9.8 MB/s eta 0:00:01\n",
      "   ---------------------------------- ----- 22.0/25.4 MB 9.6 MB/s eta 0:00:01\n",
      "   ----------------------------------- ---- 22.5/25.4 MB 9.6 MB/s eta 0:00:01\n",
      "   ------------------------------------ --- 23.1/25.4 MB 9.5 MB/s eta 0:00:01\n",
      "   ------------------------------------- -- 23.5/25.4 MB 9.5 MB/s eta 0:00:01\n",
      "   ------------------------------------- -- 24.0/25.4 MB 9.5 MB/s eta 0:00:01\n",
      "   -------------------------------------- - 24.4/25.4 MB 9.5 MB/s eta 0:00:01\n",
      "   ---------------------------------------  25.1/25.4 MB 9.5 MB/s eta 0:00:01\n",
      "   ---------------------------------------  25.4/25.4 MB 9.9 MB/s eta 0:00:01\n",
      "   ---------------------------------------- 25.4/25.4 MB 9.4 MB/s eta 0:00:00\n",
      "Installing collected packages: tensorboardX, ray\n",
      "Successfully installed ray-2.10.0 tensorboardX-2.6.2.2\n"
     ]
    }
   ],
   "source": [
    "pip install ray[tune]"
   ]
  },
  {
   "cell_type": "code",
   "execution_count": 140,
   "id": "cc3e4bbc",
   "metadata": {
    "collapsed": true
   },
   "outputs": [
    {
     "name": "stdout",
     "output_type": "stream",
     "text": [
      "Requirement already satisfied: ipywidgets in c:\\users\\hp\\anaconda3\\lib\\site-packages (7.6.5)\n",
      "Collecting ipywidgets\n",
      "  Downloading ipywidgets-8.1.2-py3-none-any.whl.metadata (2.4 kB)\n",
      "Collecting comm>=0.1.3 (from ipywidgets)\n",
      "  Downloading comm-0.2.2-py3-none-any.whl.metadata (3.7 kB)\n",
      "Requirement already satisfied: ipython>=6.1.0 in c:\\users\\hp\\anaconda3\\lib\\site-packages (from ipywidgets) (8.15.0)\n",
      "Requirement already satisfied: traitlets>=4.3.1 in c:\\users\\hp\\anaconda3\\lib\\site-packages (from ipywidgets) (5.7.1)\n",
      "Collecting widgetsnbextension~=4.0.10 (from ipywidgets)\n",
      "  Downloading widgetsnbextension-4.0.10-py3-none-any.whl.metadata (1.6 kB)\n",
      "Collecting jupyterlab-widgets~=3.0.10 (from ipywidgets)\n",
      "  Downloading jupyterlab_widgets-3.0.10-py3-none-any.whl.metadata (4.1 kB)\n",
      "Requirement already satisfied: backcall in c:\\users\\hp\\anaconda3\\lib\\site-packages (from ipython>=6.1.0->ipywidgets) (0.2.0)\n",
      "Requirement already satisfied: decorator in c:\\users\\hp\\anaconda3\\lib\\site-packages (from ipython>=6.1.0->ipywidgets) (5.1.1)\n",
      "Requirement already satisfied: jedi>=0.16 in c:\\users\\hp\\anaconda3\\lib\\site-packages (from ipython>=6.1.0->ipywidgets) (0.18.1)\n",
      "Requirement already satisfied: matplotlib-inline in c:\\users\\hp\\anaconda3\\lib\\site-packages (from ipython>=6.1.0->ipywidgets) (0.1.6)\n",
      "Requirement already satisfied: pickleshare in c:\\users\\hp\\anaconda3\\lib\\site-packages (from ipython>=6.1.0->ipywidgets) (0.7.5)\n",
      "Requirement already satisfied: prompt-toolkit!=3.0.37,<3.1.0,>=3.0.30 in c:\\users\\hp\\anaconda3\\lib\\site-packages (from ipython>=6.1.0->ipywidgets) (3.0.43)\n",
      "Requirement already satisfied: pygments>=2.4.0 in c:\\users\\hp\\anaconda3\\lib\\site-packages (from ipython>=6.1.0->ipywidgets) (2.15.1)\n",
      "Requirement already satisfied: stack-data in c:\\users\\hp\\anaconda3\\lib\\site-packages (from ipython>=6.1.0->ipywidgets) (0.2.0)\n",
      "Requirement already satisfied: typing-extensions in c:\\users\\hp\\anaconda3\\lib\\site-packages (from ipython>=6.1.0->ipywidgets) (4.9.0)\n",
      "Requirement already satisfied: exceptiongroup in c:\\users\\hp\\anaconda3\\lib\\site-packages (from ipython>=6.1.0->ipywidgets) (1.2.0)\n",
      "Requirement already satisfied: colorama in c:\\users\\hp\\anaconda3\\lib\\site-packages (from ipython>=6.1.0->ipywidgets) (0.4.6)\n",
      "Requirement already satisfied: parso<0.9.0,>=0.8.0 in c:\\users\\hp\\anaconda3\\lib\\site-packages (from jedi>=0.16->ipython>=6.1.0->ipywidgets) (0.8.3)\n",
      "Requirement already satisfied: wcwidth in c:\\users\\hp\\anaconda3\\lib\\site-packages (from prompt-toolkit!=3.0.37,<3.1.0,>=3.0.30->ipython>=6.1.0->ipywidgets) (0.2.5)\n",
      "Requirement already satisfied: executing in c:\\users\\hp\\anaconda3\\lib\\site-packages (from stack-data->ipython>=6.1.0->ipywidgets) (0.8.3)\n",
      "Requirement already satisfied: asttokens in c:\\users\\hp\\anaconda3\\lib\\site-packages (from stack-data->ipython>=6.1.0->ipywidgets) (2.0.5)\n",
      "Requirement already satisfied: pure-eval in c:\\users\\hp\\anaconda3\\lib\\site-packages (from stack-data->ipython>=6.1.0->ipywidgets) (0.2.2)\n",
      "Requirement already satisfied: six in c:\\users\\hp\\anaconda3\\lib\\site-packages (from asttokens->stack-data->ipython>=6.1.0->ipywidgets) (1.16.0)\n",
      "Downloading ipywidgets-8.1.2-py3-none-any.whl (139 kB)\n",
      "   ---------------------------------------- 0.0/139.4 kB ? eta -:--:--\n",
      "   -- ------------------------------------- 10.2/139.4 kB ? eta -:--:--\n",
      "   ----------- --------------------------- 41.0/139.4 kB 495.5 kB/s eta 0:00:01\n",
      "   -------------------------------------- - 133.1/139.4 kB 1.1 MB/s eta 0:00:01\n",
      "   -------------------------------------- 139.4/139.4 kB 828.0 kB/s eta 0:00:00\n",
      "Downloading comm-0.2.2-py3-none-any.whl (7.2 kB)\n",
      "Downloading jupyterlab_widgets-3.0.10-py3-none-any.whl (215 kB)\n",
      "   ---------------------------------------- 0.0/215.0 kB ? eta -:--:--\n",
      "   ---------------------------------------- 215.0/215.0 kB 6.6 MB/s eta 0:00:00\n",
      "Downloading widgetsnbextension-4.0.10-py3-none-any.whl (2.3 MB)\n",
      "   ---------------------------------------- 0.0/2.3 MB ? eta -:--:--\n",
      "   ---- ----------------------------------- 0.2/2.3 MB 7.6 MB/s eta 0:00:01\n",
      "   ------- -------------------------------- 0.4/2.3 MB 6.5 MB/s eta 0:00:01\n",
      "   ----------- ---------------------------- 0.7/2.3 MB 4.6 MB/s eta 0:00:01\n",
      "   ---------------- ----------------------- 1.0/2.3 MB 5.1 MB/s eta 0:00:01\n",
      "   ----------------------- ---------------- 1.3/2.3 MB 6.1 MB/s eta 0:00:01\n",
      "   ---------------------------- ----------- 1.6/2.3 MB 6.0 MB/s eta 0:00:01\n",
      "   ---------------------------------- ----- 2.0/2.3 MB 6.3 MB/s eta 0:00:01\n",
      "   -------------------------------------- - 2.2/2.3 MB 6.4 MB/s eta 0:00:01\n",
      "   ---------------------------------------  2.3/2.3 MB 6.1 MB/s eta 0:00:01\n",
      "   ---------------------------------------- 2.3/2.3 MB 5.4 MB/s eta 0:00:00\n",
      "Installing collected packages: widgetsnbextension, jupyterlab-widgets, comm, ipywidgets\n",
      "  Attempting uninstall: widgetsnbextension\n",
      "    Found existing installation: widgetsnbextension 3.5.2\n",
      "    Uninstalling widgetsnbextension-3.5.2:\n",
      "      Successfully uninstalled widgetsnbextension-3.5.2\n",
      "  Attempting uninstall: jupyterlab-widgets\n",
      "    Found existing installation: jupyterlab-widgets 3.0.9\n",
      "    Uninstalling jupyterlab-widgets-3.0.9:\n",
      "      Successfully uninstalled jupyterlab-widgets-3.0.9\n",
      "  Attempting uninstall: comm\n",
      "    Found existing installation: comm 0.1.2\n",
      "    Uninstalling comm-0.1.2:\n",
      "      Successfully uninstalled comm-0.1.2\n",
      "  Attempting uninstall: ipywidgets\n",
      "    Found existing installation: ipywidgets 7.6.5\n",
      "    Uninstalling ipywidgets-7.6.5:\n",
      "      Successfully uninstalled ipywidgets-7.6.5\n",
      "Successfully installed comm-0.2.2 ipywidgets-8.1.2 jupyterlab-widgets-3.0.10 widgetsnbextension-4.0.10\n",
      "Note: you may need to restart the kernel to use updated packages.\n"
     ]
    }
   ],
   "source": [
    "pip install -U ipywidgets"
   ]
  },
  {
   "cell_type": "code",
   "execution_count": 171,
   "id": "6deda1ea",
   "metadata": {},
   "outputs": [],
   "source": [
    "import pandas as pd\n",
    "import torch\n",
    "from sklearn.metrics import accuracy_score, precision_recall_fscore_support, confusion_matrix\n",
    "import numpy as np\n",
    "from sklearn.model_selection import train_test_split\n",
    "from transformers import BertTokenizer, BertForSequenceClassification, Trainer, TrainingArguments\n",
    "from torch.utils.data import Dataset\n",
    "from ray import tune"
   ]
  },
  {
   "cell_type": "code",
   "execution_count": 172,
   "id": "28221eba",
   "metadata": {},
   "outputs": [],
   "source": [
    "def train_model(config):\n",
    "    # Load the dataset\n",
    "    data_path = r'C:\\Users\\HP\\Desktop\\Eitacies\\Detection of Python Code presence in English sentences\\Shuffled Training Data.csv'\n",
    "    data = pd.read_csv(data_path)\n",
    "    \n",
    "    # Split the dataset into training and testing sets\n",
    "    train_data, test_data = train_test_split(data, test_size=0.2, random_state=42)\n",
    "    \n",
    "    tokenizer = BertTokenizer.from_pretrained('bert-base-uncased')\n",
    "    train_encodings = tokenizer(train_data['Text'].tolist(), truncation=True, padding=True, max_length=128)\n",
    "    test_encodings = tokenizer(test_data['Text'].tolist(), truncation=True, padding=True, max_length=128)\n",
    "    \n",
    "    class TextDataset(Dataset):\n",
    "        def __init__(self, encodings, labels):\n",
    "            self.encodings = encodings\n",
    "            self.labels = labels\n",
    "\n",
    "        def __getitem__(self, idx):\n",
    "            item = {key: torch.tensor(val[idx]) for key, val in self.encodings.items()}\n",
    "            item['labels'] = torch.tensor(self.labels[idx])\n",
    "            return item\n",
    "\n",
    "        def __len__(self):\n",
    "            return len(self.labels)\n",
    "    \n",
    "    train_dataset = TextDataset(train_encodings, train_data['Class'].tolist())\n",
    "    test_dataset = TextDataset(test_encodings, test_data['Class'].tolist())\n",
    "    \n",
    "    training_args = TrainingArguments(\n",
    "        output_dir='./results',\n",
    "        evaluation_strategy='steps',\n",
    "        learning_rate=config[\"learning_rate\"],\n",
    "        per_device_train_batch_size=int(config[\"train_batch_size\"]),\n",
    "        num_train_epochs=config[\"num_train_epochs\"],\n",
    "        weight_decay=config[\"weight_decay\"],\n",
    "        logging_dir='./logs',\n",
    "        logging_steps=50,\n",
    "    )\n",
    "    \n",
    "    # Initialize the model\n",
    "    model = BertForSequenceClassification.from_pretrained('bert-base-uncased', num_labels=2)\n",
    "    \n",
    "    # Initialize the Trainer\n",
    "    trainer = Trainer(\n",
    "    model=model,\n",
    "    args=training_args,\n",
    "    train_dataset=train_dataset,\n",
    "    eval_dataset=test_dataset\n",
    "    )\n",
    "    \n",
    "    # Train and evaluate the model\n",
    "    trainer.train()\n",
    "    results = trainer.evaluate()\n",
    "    "
   ]
  },
  {
   "cell_type": "code",
   "execution_count": 173,
   "id": "dd80de39",
   "metadata": {},
   "outputs": [
    {
     "data": {
      "text/html": [],
      "text/plain": [
       "<IPython.core.display.HTML object>"
      ]
     },
     "metadata": {},
     "output_type": "display_data"
    }
   ],
   "source": [
    "# Additionally, you may want to compute predictions for further manual metrics computation\n",
    "predictions_output = trainer.predict(test_dataset)\n",
    "predictions = np.argmax(predictions_output.predictions, axis=1)\n",
    "labels = predictions_output.label_ids"
   ]
  },
  {
   "cell_type": "code",
   "execution_count": 174,
   "id": "f6ae487e",
   "metadata": {},
   "outputs": [
    {
     "name": "stdout",
     "output_type": "stream",
     "text": [
      "Accuracy: 0.4375\n"
     ]
    }
   ],
   "source": [
    "# Calculate accuracy\n",
    "accuracy = accuracy_score(labels, predictions)\n",
    "print(f\"Accuracy: {accuracy}\")"
   ]
  },
  {
   "cell_type": "code",
   "execution_count": 175,
   "id": "ad319c37",
   "metadata": {},
   "outputs": [
    {
     "name": "stdout",
     "output_type": "stream",
     "text": [
      "Precision: 0.4375\n",
      "Recall: 1.0\n",
      "F1 Score: 0.6086956521739131\n"
     ]
    }
   ],
   "source": [
    "# Calculate precision, recall, and F1-score\n",
    "precision, recall, f1, _ = precision_recall_fscore_support(labels, predictions, average='binary')\n",
    "print(f\"Precision: {precision}\")\n",
    "print(f\"Recall: {recall}\")\n",
    "print(f\"F1 Score: {f1}\")"
   ]
  },
  {
   "cell_type": "code",
   "execution_count": 158,
   "id": "0b5a6a91",
   "metadata": {},
   "outputs": [
    {
     "name": "stdout",
     "output_type": "stream",
     "text": [
      "Confusion Matrix:\n",
      "[[0 9]\n",
      " [0 7]]\n"
     ]
    }
   ],
   "source": [
    "# Generate confusion matrix\n",
    "conf_matrix = confusion_matrix(labels, predictions)\n",
    "print(\"Confusion Matrix:\")\n",
    "print(conf_matrix)"
   ]
  },
  {
   "cell_type": "code",
   "execution_count": 159,
   "id": "a735168b",
   "metadata": {},
   "outputs": [],
   "source": [
    "# Load the unseen data\n",
    "data_path = r'C:\\Users\\HP\\Desktop\\Eitacies\\Detection of Python Code presence in English sentences\\Unseen Data.csv'\n",
    "data = pd.read_csv(data_path)\n",
    "texts = data['Text'].tolist()"
   ]
  },
  {
   "cell_type": "code",
   "execution_count": 160,
   "id": "710c6856",
   "metadata": {},
   "outputs": [],
   "source": [
    "#Instantiate the tokenizer\n",
    "tokenizer = BertTokenizer.from_pretrained('bert-base-uncased')"
   ]
  },
  {
   "cell_type": "code",
   "execution_count": 161,
   "id": "66b5576d",
   "metadata": {},
   "outputs": [],
   "source": [
    "encodings = tokenize_data(texts)"
   ]
  },
  {
   "cell_type": "code",
   "execution_count": 162,
   "id": "8fa4f735",
   "metadata": {},
   "outputs": [
    {
     "ename": "TypeError",
     "evalue": "__init__() missing 1 required positional argument: 'labels'",
     "output_type": "error",
     "traceback": [
      "\u001b[1;31m---------------------------------------------------------------------------\u001b[0m",
      "\u001b[1;31mTypeError\u001b[0m                                 Traceback (most recent call last)",
      "Cell \u001b[1;32mIn[162], line 1\u001b[0m\n\u001b[1;32m----> 1\u001b[0m unseen_dataset \u001b[38;5;241m=\u001b[39m \u001b[43mTextDataset\u001b[49m\u001b[43m(\u001b[49m\u001b[43mencodings\u001b[49m\u001b[43m)\u001b[49m\n",
      "\u001b[1;31mTypeError\u001b[0m: __init__() missing 1 required positional argument: 'labels'"
     ]
    }
   ],
   "source": [
    "unseen_dataset = TextDataset(encodings)"
   ]
  },
  {
   "cell_type": "code",
   "execution_count": 163,
   "id": "514f70fd",
   "metadata": {},
   "outputs": [],
   "source": [
    "# Load the trained model\n",
    "model_directory = \"saved_model\"  # Adjust the path if needed\n",
    "model = BertForSequenceClassification.from_pretrained(model_directory, num_labels=2)"
   ]
  },
  {
   "cell_type": "code",
   "execution_count": 164,
   "id": "68b6e838",
   "metadata": {
    "collapsed": true
   },
   "outputs": [
    {
     "data": {
      "text/plain": [
       "BertForSequenceClassification(\n",
       "  (bert): BertModel(\n",
       "    (embeddings): BertEmbeddings(\n",
       "      (word_embeddings): Embedding(30522, 768, padding_idx=0)\n",
       "      (position_embeddings): Embedding(512, 768)\n",
       "      (token_type_embeddings): Embedding(2, 768)\n",
       "      (LayerNorm): LayerNorm((768,), eps=1e-12, elementwise_affine=True)\n",
       "      (dropout): Dropout(p=0.1, inplace=False)\n",
       "    )\n",
       "    (encoder): BertEncoder(\n",
       "      (layer): ModuleList(\n",
       "        (0-11): 12 x BertLayer(\n",
       "          (attention): BertAttention(\n",
       "            (self): BertSelfAttention(\n",
       "              (query): Linear(in_features=768, out_features=768, bias=True)\n",
       "              (key): Linear(in_features=768, out_features=768, bias=True)\n",
       "              (value): Linear(in_features=768, out_features=768, bias=True)\n",
       "              (dropout): Dropout(p=0.1, inplace=False)\n",
       "            )\n",
       "            (output): BertSelfOutput(\n",
       "              (dense): Linear(in_features=768, out_features=768, bias=True)\n",
       "              (LayerNorm): LayerNorm((768,), eps=1e-12, elementwise_affine=True)\n",
       "              (dropout): Dropout(p=0.1, inplace=False)\n",
       "            )\n",
       "          )\n",
       "          (intermediate): BertIntermediate(\n",
       "            (dense): Linear(in_features=768, out_features=3072, bias=True)\n",
       "            (intermediate_act_fn): GELUActivation()\n",
       "          )\n",
       "          (output): BertOutput(\n",
       "            (dense): Linear(in_features=3072, out_features=768, bias=True)\n",
       "            (LayerNorm): LayerNorm((768,), eps=1e-12, elementwise_affine=True)\n",
       "            (dropout): Dropout(p=0.1, inplace=False)\n",
       "          )\n",
       "        )\n",
       "      )\n",
       "    )\n",
       "    (pooler): BertPooler(\n",
       "      (dense): Linear(in_features=768, out_features=768, bias=True)\n",
       "      (activation): Tanh()\n",
       "    )\n",
       "  )\n",
       "  (dropout): Dropout(p=0.1, inplace=False)\n",
       "  (classifier): Linear(in_features=768, out_features=2, bias=True)\n",
       ")"
      ]
     },
     "execution_count": 164,
     "metadata": {},
     "output_type": "execute_result"
    }
   ],
   "source": [
    "# Put the model in evaluation mode\n",
    "model.eval()"
   ]
  },
  {
   "cell_type": "code",
   "execution_count": 166,
   "id": "8268dbc8",
   "metadata": {},
   "outputs": [],
   "source": [
    "from torch.utils.data import DataLoader"
   ]
  },
  {
   "cell_type": "code",
   "execution_count": 167,
   "id": "222cbe8a",
   "metadata": {},
   "outputs": [],
   "source": [
    "# Create a DataLoader for the unseen dataset\n",
    "dataloader = DataLoader(unseen_dataset, batch_size=16)  # Adjust batch size as needed"
   ]
  },
  {
   "cell_type": "code",
   "execution_count": 168,
   "id": "b752b83c",
   "metadata": {},
   "outputs": [],
   "source": [
    "# Inference\n",
    "device = torch.device(\"cuda\" if torch.cuda.is_available() else \"cpu\")\n",
    "model = model.to(device)"
   ]
  },
  {
   "cell_type": "code",
   "execution_count": 169,
   "id": "d1b129ff",
   "metadata": {},
   "outputs": [],
   "source": [
    "predictions = []\n",
    "with torch.no_grad():\n",
    "    for batch in dataloader:\n",
    "        batch = {k: v.to(device) for k, v in batch.items()}\n",
    "        outputs = model(**batch)\n",
    "        predictions.extend(torch.argmax(outputs.logits, dim=1).tolist())"
   ]
  },
  {
   "cell_type": "code",
   "execution_count": 170,
   "id": "144a64d0",
   "metadata": {},
   "outputs": [
    {
     "name": "stdout",
     "output_type": "stream",
     "text": [
      "Text: print(\"Hello, world!\")\n",
      "Predicted Class: 1\n",
      "\n",
      "Text: def add(x, y): return x + y\n",
      "Predicted Class: 1\n",
      "\n",
      "Text: for i in range(10): print(i)\n",
      "Predicted Class: 1\n",
      "\n",
      "Text: import numpy as np; np.zeros((2,2))\n",
      "Predicted Class: 1\n",
      "\n",
      "Text: if __name__ == \"__main__\": print(\"This is a script.\")\n",
      "Predicted Class: 1\n",
      "\n",
      "Text: Walking my dog in the park is my favorite part of the day.\n",
      "Predicted Class: 0\n",
      "\n",
      "Text: I love to read historical novels on rainy days.\n",
      "Predicted Class: 0\n",
      "\n",
      "Text: Chocolate cake is best served with a scoop of vanilla ice cream.\n",
      "Predicted Class: 1\n",
      "\n",
      "Text: Yesterday, I watched a documentary about ancient civilizations.\n",
      "Predicted Class: 0\n",
      "\n",
      "Text: Gardening is a relaxing hobby that connects you with nature.\n",
      "Predicted Class: 0\n",
      "\n",
      "Text: x = [i for i in range(10) if i % 2 == 0]\n",
      "Predicted Class: 1\n",
      "\n",
      "Text: def greet(name): return f\"Hello, {name}!\"\n",
      "Predicted Class: 1\n",
      "\n",
      "Text: import random; random.seed(42)\n",
      "Predicted Class: 1\n",
      "\n",
      "Text: x = {'key': 'value'}; print(x['key'])\n",
      "Predicted Class: 1\n",
      "\n",
      "Text: try: x = 1 / 0 except ZeroDivisionError: x = 0\n",
      "Predicted Class: 1\n",
      "\n",
      "Text: class MyClass: def __init__(self): self.attribute = 'value'\n",
      "Predicted Class: 1\n",
      "\n",
      "Text: with open('file.txt', 'r') as f: content = f.readlines()\n",
      "Predicted Class: 1\n",
      "\n",
      "Text: lambda x: x ** 2\n",
      "Predicted Class: 1\n",
      "\n",
      "Text: from datetime import datetime; print(datetime.now())\n",
      "Predicted Class: 1\n",
      "\n",
      "Text: import os; os.system('echo Hello World')\n",
      "Predicted Class: 1\n",
      "\n",
      "Text: The sky was cloudless and of a deep dark blue.\n",
      "Predicted Class: 0\n",
      "\n",
      "Text: He was a tall man with features that bespoke his Irish ancestry.\n",
      "Predicted Class: 0\n",
      "\n",
      "Text: Her favorite subject at school was history.\n",
      "Predicted Class: 0\n",
      "\n",
      "Text: They enjoyed the quiet coffee shop with its rich aroma.\n",
      "Predicted Class: 0\n",
      "\n",
      "Text: On her desk, a bunch of flowers which she had not noticed before.\n",
      "Predicted Class: 0\n",
      "\n",
      "Text: He dreamed of traveling to New Zealand to see the landscapes.\n",
      "Predicted Class: 0\n",
      "\n",
      "Text: The museum had an exhibition of impressionist paintings.\n",
      "Predicted Class: 0\n",
      "\n",
      "Text: It was a cold morning, but the sun was bright.\n",
      "Predicted Class: 0\n",
      "\n",
      "Text: She liked to spend her evenings reading mystery novels.\n",
      "Predicted Class: 0\n",
      "\n",
      "Text: They had a picnic at the park, complete with sandwiches and lemonade.\n",
      "Predicted Class: 0\n",
      "\n",
      "\u001b[33m(raylet)\u001b[0m The node with node id: 53e4eac307f9f22999e1ecf6f67fd52b9a68ce0436c3195d6c1b8979 and address: 127.0.0.1 and node name: 127.0.0.1 has been marked dead because the detector has missed too many heartbeats from it. This can happen when a \t(1) raylet crashes unexpectedly (OOM, preempted node, etc.) \n",
      "\t(2) raylet has lagging heartbeats due to slow network or busy workload.\n"
     ]
    },
    {
     "name": "stderr",
     "output_type": "stream",
     "text": [
      "\u001b[33m(raylet)\u001b[0m [2024-04-24 20:43:08,818 C 36520 22472] (raylet.exe) node_manager.cc:537: GCS consider this node to be dead. This may happen when GCS is not backed by a DB and restarted or there is data loss in the DB.\n",
      "\u001b[33m(raylet)\u001b[0m *** StackTrace Information ***\n",
      "\u001b[33m(raylet)\u001b[0m unknown\n",
      "\u001b[33m(raylet)\u001b[0m BaseThreadInitThunk\n",
      "\u001b[33m(raylet)\u001b[0m RtlUserThreadStart\n",
      "\u001b[33m(raylet)\u001b[0m \n"
     ]
    }
   ],
   "source": [
    "# Print the predictions alongside the text\n",
    "for text, pred in zip(texts, predictions):\n",
    "    print(f\"Text: {text}\\nPredicted Class: {pred}\\n\")"
   ]
  },
  {
   "cell_type": "code",
   "execution_count": null,
   "id": "1f85ac56",
   "metadata": {},
   "outputs": [],
   "source": []
  },
  {
   "cell_type": "code",
   "execution_count": null,
   "id": "d1915bb2",
   "metadata": {},
   "outputs": [],
   "source": []
  }
 ],
 "metadata": {
  "kernelspec": {
   "display_name": "Python 3 (ipykernel)",
   "language": "python",
   "name": "python3"
  },
  "language_info": {
   "codemirror_mode": {
    "name": "ipython",
    "version": 3
   },
   "file_extension": ".py",
   "mimetype": "text/x-python",
   "name": "python",
   "nbconvert_exporter": "python",
   "pygments_lexer": "ipython3",
   "version": "3.9.18"
  }
 },
 "nbformat": 4,
 "nbformat_minor": 5
}
